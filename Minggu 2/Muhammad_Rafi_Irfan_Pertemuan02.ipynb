{
  "nbformat": 4,
  "nbformat_minor": 0,
  "metadata": {
    "colab": {
      "provenance": []
    },
    "kernelspec": {
      "name": "python3",
      "display_name": "Python 3"
    },
    "language_info": {
      "name": "python"
    }
  },
  "cells": [
    {
      "cell_type": "markdown",
      "source": [
        "MK DAA Latihan Pertemuan ke-2"
      ],
      "metadata": {
        "id": "810G5Fvk-6En"
      }
    },
    {
      "cell_type": "code",
      "execution_count": null,
      "metadata": {
        "colab": {
          "base_uri": "https://localhost:8080/"
        },
        "id": "0yjIaXwb8JPv",
        "outputId": "2a4d0e0c-f5ca-47d6-b082-4bb1ae4c4222"
      },
      "outputs": [
        {
          "output_type": "stream",
          "name": "stdout",
          "text": [
            "21\n"
          ]
        }
      ],
      "source": [
        "import numpy as np\n",
        "\n",
        "#Terdapat list a dan b\n",
        "a = np.array([1, 2, 3])\n",
        "b = np.array([4, 5, 6])\n",
        "\n",
        "#lalu jumlahkan\n",
        "hasil = a + b\n",
        "\n",
        "NpHasil = np.sum(a+b)\n",
        "\n",
        "print(NpHasil)"
      ]
    },
    {
      "cell_type": "code",
      "source": [
        "print(\"Numpy Version \" + np.__version__)\n",
        "\n",
        "nilai_siswa = np.array([85, 55, 40, 90])\n",
        "\n",
        "print(nilai_siswa[3])"
      ],
      "metadata": {
        "colab": {
          "base_uri": "https://localhost:8080/"
        },
        "id": "p04IDv_c8rBP",
        "outputId": "529db6fb-9f3a-456d-c311-c2953e46fd3a"
      },
      "execution_count": null,
      "outputs": [
        {
          "output_type": "stream",
          "name": "stdout",
          "text": [
            "Numpy Version 1.26.4\n",
            "90\n"
          ]
        }
      ]
    },
    {
      "cell_type": "code",
      "source": [
        "def getSum(myList):\n",
        "  sum = 0\n",
        "  for i in myList:\n",
        "    sum = sum + i\n",
        "  return sum\n",
        "\n",
        "add_a_b = np.add(a, b)\n",
        "getSum(add_a_b)"
      ],
      "metadata": {
        "colab": {
          "base_uri": "https://localhost:8080/"
        },
        "id": "5Wa1FMeGBj_2",
        "outputId": "3f187d9f-1bed-430a-c8a1-2c0ed336d5c5"
      },
      "execution_count": null,
      "outputs": [
        {
          "output_type": "execute_result",
          "data": {
            "text/plain": [
              "21"
            ]
          },
          "metadata": {},
          "execution_count": 43
        }
      ]
    },
    {
      "cell_type": "code",
      "source": [
        "def getSum2(myList):\n",
        "  sum = 0\n",
        "  for row in myList:\n",
        "    for i in row:\n",
        "      sum += i\n",
        "  return sum\n",
        "\n",
        "getSum2([[1, 2, 3], [4, 5, 6]])"
      ],
      "metadata": {
        "colab": {
          "base_uri": "https://localhost:8080/"
        },
        "id": "7h_7_jYzKApL",
        "outputId": "2863b1e5-0481-42fb-c4ad-950a560b0517"
      },
      "execution_count": null,
      "outputs": [
        {
          "output_type": "execute_result",
          "data": {
            "text/plain": [
              "21"
            ]
          },
          "metadata": {},
          "execution_count": 51
        }
      ]
    },
    {
      "cell_type": "code",
      "source": [
        "def getBagi(myList):\n",
        "  bagi = 0\n",
        "  for i in myList:\n",
        "    bagi = bagi * i\n",
        "\n",
        "getBagi([60, 3, 3])"
      ],
      "metadata": {
        "id": "lOK9Wl3TS1DM"
      },
      "execution_count": null,
      "outputs": []
    },
    {
      "cell_type": "code",
      "source": [
        "nama = input(\"Masukkan Nama: \")\n",
        "nim = int(input(\"Masukkan NIM: \"))\n",
        "print(\"Hello World!\")\n",
        "print(f\"Nama saya{nama}\")\n",
        "\n",
        "print(f\"NIM saya {nim}\")"
      ],
      "metadata": {
        "colab": {
          "base_uri": "https://localhost:8080/"
        },
        "id": "RvCrxHQ2GIya",
        "outputId": "e7035943-3742-4ae9-e95f-a399f7b709e4"
      },
      "execution_count": null,
      "outputs": [
        {
          "output_type": "stream",
          "name": "stdout",
          "text": [
            "Masukkan Nama: Muhammad Rafi Irfan\n",
            "Masukkan NIM: 2023071053\n",
            "Hello World!\n",
            "Nama sayaMuhammad Rafi Irfan\n",
            "NIM saya 2023071053\n"
          ]
        }
      ]
    },
    {
      "cell_type": "code",
      "source": [
        "if 5>2:\n",
        "  print(\"Five is greater than two!\")"
      ],
      "metadata": {
        "colab": {
          "base_uri": "https://localhost:8080/"
        },
        "id": "p97L3Yo2H8sY",
        "outputId": "1e888760-4c2a-4686-f6c1-683fd3f754d5"
      },
      "execution_count": null,
      "outputs": [
        {
          "output_type": "stream",
          "name": "stdout",
          "text": [
            "Five is greater than two!\n"
          ]
        }
      ]
    },
    {
      "cell_type": "code",
      "source": [
        "x = 5\n",
        "y = \"John\"\n",
        "print(x)\n",
        "print(y)\n",
        "\n",
        "x = 4\n",
        "x = \"Sally\"\n",
        "print(x)"
      ],
      "metadata": {
        "colab": {
          "base_uri": "https://localhost:8080/"
        },
        "id": "ZgV2JrENIdNV",
        "outputId": "6ea834b2-df49-4e5d-c0ba-e1497a4fd8a9"
      },
      "execution_count": null,
      "outputs": [
        {
          "output_type": "stream",
          "name": "stdout",
          "text": [
            "5\n",
            "John\n",
            "Sally\n"
          ]
        }
      ]
    },
    {
      "cell_type": "code",
      "source": [
        "def getFirst(list):\n",
        "  return list[0]\n",
        "\n",
        "getFirst(a)"
      ],
      "metadata": {
        "colab": {
          "base_uri": "https://localhost:8080/"
        },
        "id": "JAmFQWgFIukS",
        "outputId": "04b334fe-6a00-4973-8e81-a5eb5d497836"
      },
      "execution_count": null,
      "outputs": [
        {
          "output_type": "execute_result",
          "data": {
            "text/plain": [
              "1"
            ]
          },
          "metadata": {},
          "execution_count": 38
        }
      ]
    },
    {
      "cell_type": "code",
      "source": [
        "def getSecond(list):\n",
        "  return list[1]\n",
        "\n",
        "getFirst(a)"
      ],
      "metadata": {
        "colab": {
          "base_uri": "https://localhost:8080/"
        },
        "id": "L3cx_g1wMxMB",
        "outputId": "33d1dd51-16ca-497e-a008-361ffbd681bc"
      },
      "execution_count": null,
      "outputs": [
        {
          "output_type": "execute_result",
          "data": {
            "text/plain": [
              "3"
            ]
          },
          "metadata": {},
          "execution_count": 52
        }
      ]
    },
    {
      "cell_type": "code",
      "source": [
        "def getLast(list):\n",
        "  return list[-1]\n",
        "\n",
        "getFirst(a)"
      ],
      "metadata": {
        "colab": {
          "base_uri": "https://localhost:8080/"
        },
        "id": "PyJdn-JhKlgS",
        "outputId": "12189a39-d66b-47b0-b221-460991d09043"
      },
      "execution_count": null,
      "outputs": [
        {
          "output_type": "execute_result",
          "data": {
            "text/plain": [
              "3"
            ]
          },
          "metadata": {},
          "execution_count": 46
        }
      ]
    },
    {
      "cell_type": "code",
      "source": [
        "def getLast2(list):\n",
        "  size = len(list)\n",
        "  return list[size]\n",
        "\n",
        "getFirst(a)"
      ],
      "metadata": {
        "colab": {
          "base_uri": "https://localhost:8080/"
        },
        "id": "KQKL1X6DNJBq",
        "outputId": "e16abb6a-acfa-4c07-92e2-18329e9aaacb"
      },
      "execution_count": null,
      "outputs": [
        {
          "output_type": "execute_result",
          "data": {
            "text/plain": [
              "3"
            ]
          },
          "metadata": {},
          "execution_count": 56
        }
      ]
    }
  ]
}